{
 "cells": [
  {
   "cell_type": "markdown",
   "id": "6cf43600-9778-452e-9405-8257fe14ff74",
   "metadata": {},
   "source": [
    "**Variables**\n",
    "\n",
    "- Variables are used to store the values\n",
    "  \n",
    "- Variables can change their values\n",
    "  \n",
    "- Varyyy:Varying\n",
    "  "
   ]
  },
  {
   "cell_type": "code",
   "execution_count": 1,
   "id": "4a6e5822-bfaf-4281-b95f-d26108f195fb",
   "metadata": {},
   "outputs": [
    {
     "data": {
      "text/plain": [
       "100"
      ]
     },
     "execution_count": 1,
     "metadata": {},
     "output_type": "execute_result"
    }
   ],
   "source": [
    "number=100\n",
    "number\n",
    "\n",
    "#100 is stored in a variable called 'number'"
   ]
  },
  {
   "cell_type": "code",
   "execution_count": 3,
   "id": "2f851168-d4af-4c35-bd34-43ca084a20fc",
   "metadata": {},
   "outputs": [
    {
     "data": {
      "text/plain": [
       "200"
      ]
     },
     "execution_count": 3,
     "metadata": {},
     "output_type": "execute_result"
    }
   ],
   "source": [
    "number=200\n",
    "number"
   ]
  },
  {
   "cell_type": "markdown",
   "id": "99c97e0f-ddb2-4c42-9cd3-df85163e7e51",
   "metadata": {},
   "source": [
    "- Yamini is learing python code mode is used to write the code markdown mode is used to write the story\n",
    "\n",
    "square brackets are there before cell:code mode esc+m\n"
   ]
  },
  {
   "cell_type": "code",
   "execution_count": 5,
   "id": "0aa5db43-3eab-4b19-a874-dca9617d4201",
   "metadata": {},
   "outputs": [
    {
     "data": {
      "text/plain": [
       "500"
      ]
     },
     "execution_count": 5,
     "metadata": {},
     "output_type": "execute_result"
    }
   ],
   "source": [
    "raviteja=500\n",
    "raviteja"
   ]
  },
  {
   "cell_type": "code",
   "execution_count": 7,
   "id": "7204a096-c0d7-49de-9867-12047c61c863",
   "metadata": {},
   "outputs": [
    {
     "data": {
      "text/plain": [
       "50000"
      ]
     },
     "execution_count": 7,
     "metadata": {},
     "output_type": "execute_result"
    }
   ],
   "source": [
    "raviteja=50000\n",
    "raviteja"
   ]
  },
  {
   "cell_type": "code",
   "execution_count": 9,
   "id": "36d8fb35-49f1-4a54-9dc4-8bb73756f984",
   "metadata": {},
   "outputs": [
    {
     "data": {
      "text/plain": [
       "500000"
      ]
     },
     "execution_count": 9,
     "metadata": {},
     "output_type": "execute_result"
    }
   ],
   "source": [
    "raviteja=500000\n",
    "raviteja"
   ]
  },
  {
   "cell_type": "code",
   "execution_count": 11,
   "id": "352a6923-a8eb-4cf0-b1e1-3b370163fd8a",
   "metadata": {},
   "outputs": [
    {
     "data": {
      "text/plain": [
       "25000"
      ]
     },
     "execution_count": 11,
     "metadata": {},
     "output_type": "execute_result"
    }
   ],
   "source": [
    "raviteja1=25000\n",
    "raviteja1"
   ]
  },
  {
   "cell_type": "code",
   "execution_count": 13,
   "id": "ae1394c7-5e36-461b-8085-591f6cd3065a",
   "metadata": {},
   "outputs": [
    {
     "data": {
      "text/plain": [
       "2500"
      ]
     },
     "execution_count": 13,
     "metadata": {},
     "output_type": "execute_result"
    }
   ],
   "source": [
    "raviteja2=2500\n",
    "raviteja2\n",
    "\n",
    "\n",
    "\n",
    "#type ra\n",
    "#enter tab\n",
    "#you can see the names which are starting with 'ra'"
   ]
  },
  {
   "cell_type": "code",
   "execution_count": 15,
   "id": "c9eb5b21-5880-4f72-841a-b67b0641d4b8",
   "metadata": {},
   "outputs": [],
   "source": [
    "lakshmi=100"
   ]
  },
  {
   "cell_type": "markdown",
   "id": "1393fe3b-eda9-489c-a84c-dcc05b8e2a36",
   "metadata": {},
   "source": [
    "- no variable given to store so no output\n"
   ]
  },
  {
   "cell_type": "code",
   "execution_count": 17,
   "id": "c2a81b49-b4cb-4726-af83-44fbe5e182bd",
   "metadata": {},
   "outputs": [
    {
     "data": {
      "text/plain": [
       "200"
      ]
     },
     "execution_count": 17,
     "metadata": {},
     "output_type": "execute_result"
    }
   ],
   "source": [
    "NUMBER=200\n",
    "NUMBER\n"
   ]
  },
  {
   "cell_type": "code",
   "execution_count": 19,
   "id": "2e819cfe-9be1-4aab-ad1d-8d8e26312413",
   "metadata": {},
   "outputs": [
    {
     "data": {
      "text/plain": [
       "400"
      ]
     },
     "execution_count": 19,
     "metadata": {},
     "output_type": "execute_result"
    }
   ],
   "source": [
    "number123=400\n",
    "number123"
   ]
  },
  {
   "cell_type": "code",
   "execution_count": 21,
   "id": "27c90130-8235-4e8d-97a5-3411e90aa760",
   "metadata": {},
   "outputs": [
    {
     "ename": "SyntaxError",
     "evalue": "invalid decimal literal (3981981304.py, line 1)",
     "output_type": "error",
     "traceback": [
      "\u001b[1;36m  Cell \u001b[1;32mIn[21], line 1\u001b[1;36m\u001b[0m\n\u001b[1;33m    123number=500\u001b[0m\n\u001b[1;37m      ^\u001b[0m\n\u001b[1;31mSyntaxError\u001b[0m\u001b[1;31m:\u001b[0m invalid decimal literal\n"
     ]
    }
   ],
   "source": [
    "123number=500\n",
    "123\n",
    "\n",
    "\n",
    "#variables does not have numbers as prefix\n",
    "#variables should not start with numbers"
   ]
  },
  {
   "cell_type": "code",
   "execution_count": 23,
   "id": "eb64cca4-e231-406e-9e8b-99a50b401fee",
   "metadata": {},
   "outputs": [
    {
     "ename": "SyntaxError",
     "evalue": "invalid decimal literal (1149251779.py, line 2)",
     "output_type": "error",
     "traceback": [
      "\u001b[1;36m  Cell \u001b[1;32mIn[23], line 2\u001b[1;36m\u001b[0m\n\u001b[1;33m    123number\u001b[0m\n\u001b[1;37m      ^\u001b[0m\n\u001b[1;31mSyntaxError\u001b[0m\u001b[1;31m:\u001b[0m invalid decimal literal\n"
     ]
    }
   ],
   "source": [
    "123 number=500\n",
    "123number"
   ]
  },
  {
   "cell_type": "code",
   "execution_count": 25,
   "id": "fbb68401-d107-48c6-b0c2-9bc25d7a6ab5",
   "metadata": {},
   "outputs": [
    {
     "ename": "SyntaxError",
     "evalue": "cannot assign to expression here. Maybe you meant '==' instead of '='? (2320124088.py, line 1)",
     "output_type": "error",
     "traceback": [
      "\u001b[1;36m  Cell \u001b[1;32mIn[25], line 1\u001b[1;36m\u001b[0m\n\u001b[1;33m    Number*one=500\u001b[0m\n\u001b[1;37m    ^\u001b[0m\n\u001b[1;31mSyntaxError\u001b[0m\u001b[1;31m:\u001b[0m cannot assign to expression here. Maybe you meant '==' instead of '='?\n"
     ]
    }
   ],
   "source": [
    "Number*one=500\n",
    "Number*one\n",
    "\n",
    "\n",
    "#variables does not have spcl characters"
   ]
  },
  {
   "cell_type": "code",
   "execution_count": 31,
   "id": "46abe004-1a4c-4650-afd8-771f53ad51b2",
   "metadata": {},
   "outputs": [
    {
     "data": {
      "text/plain": [
       "600"
      ]
     },
     "execution_count": 31,
     "metadata": {},
     "output_type": "execute_result"
    }
   ],
   "source": [
    "number_one=600\n",
    "number_one\n",
    "\n",
    "#variables can have underscores"
   ]
  },
  {
   "cell_type": "code",
   "execution_count": 33,
   "id": "57c73363-196c-44e9-b170-3e575ccdc301",
   "metadata": {},
   "outputs": [
    {
     "data": {
      "text/plain": [
       "900"
      ]
     },
     "execution_count": 33,
     "metadata": {},
     "output_type": "execute_result"
    }
   ],
   "source": [
    "_=900\n",
    "_\n",
    "\n",
    "#only underscores can represent as variables"
   ]
  },
  {
   "cell_type": "markdown",
   "id": "5f0b6dd9-e48f-4ca1-934b-e0eaf6ec5b7e",
   "metadata": {},
   "source": [
    "- variables are case sensitive\n",
    "- variables can be represented in capital letters \n",
    "- variables can be represented in small letters\n",
    "- variables can have both combinations\n",
    "- python will consider latest value\n",
    "- variables does not start with numbers\n",
    "- variables have numbers at last\n",
    "- variables does not contain any spcl characters,except underscores\n",
    "- variables does not have any space between the letters:number one\n",
    "- only underscore can use as variables\n",
    "- keywords or reserved words will use as variables:if,else"
   ]
  },
  {
   "cell_type": "code",
   "execution_count": 35,
   "id": "00649fea-6e80-4730-8ae0-303ec79090a0",
   "metadata": {},
   "outputs": [
    {
     "data": {
      "text/plain": [
       "900"
      ]
     },
     "execution_count": 35,
     "metadata": {},
     "output_type": "execute_result"
    }
   ],
   "source": [
    "number_123_two=900\n",
    "number_123_two\n"
   ]
  },
  {
   "cell_type": "code",
   "execution_count": null,
   "id": "80550b1b-f6b2-4a81-bb42-8b38f1716c3c",
   "metadata": {},
   "outputs": [],
   "source": []
  }
 ],
 "metadata": {
  "kernelspec": {
   "display_name": "Python 3 (ipykernel)",
   "language": "python",
   "name": "python3"
  },
  "language_info": {
   "codemirror_mode": {
    "name": "ipython",
    "version": 3
   },
   "file_extension": ".py",
   "mimetype": "text/x-python",
   "name": "python",
   "nbconvert_exporter": "python",
   "pygments_lexer": "ipython3",
   "version": "3.12.4"
  }
 },
 "nbformat": 4,
 "nbformat_minor": 5
}
